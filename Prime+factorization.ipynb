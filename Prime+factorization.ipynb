{
 "cells": [
  {
   "cell_type": "code",
   "execution_count": null,
   "metadata": {
    "collapsed": true
   },
   "outputs": [],
   "source": [
    "'''\n",
    "Prime Factorization - Have the user enter a number and find all Prime Factors (if there are any) and display them.\n",
    "'''\n"
   ]
  },
  {
   "cell_type": "code",
   "execution_count": 15,
   "metadata": {
    "collapsed": false
   },
   "outputs": [],
   "source": [
    "def factors(number):\n",
    "    factor=[1]\n",
    "    i=2\n",
    "    while number!=1:\n",
    "        if number%i==0:\n",
    "            factor.append(i)\n",
    "            number=number/i\n",
    "        else:\n",
    "            i=i+1\n",
    "    factor=set(factor)\n",
    "    return factor"
   ]
  },
  {
   "cell_type": "code",
   "execution_count": 16,
   "metadata": {
    "collapsed": true
   },
   "outputs": [],
   "source": [
    "def getnumber():\n",
    "    while True:\n",
    "        try:\n",
    "            number = int(raw_input(\"For what number do you want to find out the prime factors? \"))\n",
    "            break\n",
    "        except(TypeError, ValueError):\n",
    "            print (\"You did not enter a number, please try again!\")\n",
    "    return number\n",
    "            "
   ]
  },
  {
   "cell_type": "code",
   "execution_count": 33,
   "metadata": {
    "collapsed": false
   },
   "outputs": [],
   "source": [
    "def printset(multime):\n",
    "    print 'The Prime Factors are: ',\n",
    "    for s in multime:\n",
    "        print ''.join(str(s)),"
   ]
  },
  {
   "cell_type": "code",
   "execution_count": 34,
   "metadata": {
    "collapsed": true
   },
   "outputs": [],
   "source": [
    "def main():\n",
    "    nr=getnumber()\n",
    "    multime=factors(nr)\n",
    "    printset(multime)"
   ]
  },
  {
   "cell_type": "code",
   "execution_count": 39,
   "metadata": {
    "collapsed": false
   },
   "outputs": [
    {
     "name": "stdout",
     "output_type": "stream",
     "text": [
      "For what number do you want to find out the prime factors? 111\n",
      "The Prime Factors are:  1 3 37\n"
     ]
    }
   ],
   "source": [
    "main()"
   ]
  },
  {
   "cell_type": "code",
   "execution_count": null,
   "metadata": {
    "collapsed": true
   },
   "outputs": [],
   "source": []
  }
 ],
 "metadata": {
  "anaconda-cloud": {},
  "kernelspec": {
   "display_name": "Python [default]",
   "language": "python",
   "name": "python2"
  },
  "language_info": {
   "codemirror_mode": {
    "name": "ipython",
    "version": 2
   },
   "file_extension": ".py",
   "mimetype": "text/x-python",
   "name": "python",
   "nbconvert_exporter": "python",
   "pygments_lexer": "ipython2",
   "version": "2.7.12"
  }
 },
 "nbformat": 4,
 "nbformat_minor": 1
}
