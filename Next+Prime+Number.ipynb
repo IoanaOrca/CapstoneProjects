{
 "cells": [
  {
   "cell_type": "code",
   "execution_count": null,
   "metadata": {
    "collapsed": true
   },
   "outputs": [],
   "source": [
    "'''\n",
    "Next Prime Number - Have the program find prime numbers until the user chooses to stop asking for the next one.\n",
    "'''"
   ]
  },
  {
   "cell_type": "code",
   "execution_count": 20,
   "metadata": {
    "collapsed": false
   },
   "outputs": [],
   "source": [
    "\n",
    "def isprime(x):\n",
    "    '''\n",
    "    Checks to see if a number x is prime.\n",
    "    '''\n",
    "    i=2\n",
    "    isp=True\n",
    "    while (i<(int(x/2)+1)) :\n",
    "        if x%i==0:\n",
    "            isp=False\n",
    "            break\n",
    "        else:\n",
    "            i+=1\n",
    "    return isp"
   ]
  },
  {
   "cell_type": "code",
   "execution_count": 21,
   "metadata": {
    "collapsed": false
   },
   "outputs": [],
   "source": [
    "def readnext():\n",
    "    '''\n",
    "    Takes an input of a decision and checks to see if it's correctly introduced    \n",
    "    '''\n",
    "    decision = raw_input(\"Do you want to continue printing prime numbers? Y/N \")\n",
    "    while decision not in 'YyyyesYesYESNnnnoNoNO':\n",
    "        print (\"I did not understand your decision, please try again! \")\n",
    "        decision = raw_input(\"Y/N \")    \n",
    "    return decision"
   ]
  },
  {
   "cell_type": "code",
   "execution_count": 31,
   "metadata": {
    "collapsed": true
   },
   "outputs": [],
   "source": [
    "def main():\n",
    "    '''\n",
    "    Prints prime numbers as long as the user wants to.\n",
    "    '''\n",
    "    print ' The first prime number is 1 '\n",
    "    print ''\n",
    "    decision=readnext()\n",
    "    i=2\n",
    "    while decision in 'YyyyesYesYES':\n",
    "        print i\n",
    "        i+=1\n",
    "        while isprime(i)==False:\n",
    "            i+=1\n",
    "        decision=readnext()\n",
    "        "
   ]
  },
  {
   "cell_type": "code",
   "execution_count": 30,
   "metadata": {
    "collapsed": false
   },
   "outputs": [],
   "source": [
    "main()"
   ]
  },
  {
   "cell_type": "code",
   "execution_count": null,
   "metadata": {
    "collapsed": false
   },
   "outputs": [],
   "source": []
  },
  {
   "cell_type": "code",
   "execution_count": null,
   "metadata": {
    "collapsed": false
   },
   "outputs": [],
   "source": []
  },
  {
   "cell_type": "code",
   "execution_count": null,
   "metadata": {
    "collapsed": false
   },
   "outputs": [],
   "source": []
  }
 ],
 "metadata": {
  "anaconda-cloud": {},
  "kernelspec": {
   "display_name": "Python [default]",
   "language": "python",
   "name": "python2"
  },
  "language_info": {
   "codemirror_mode": {
    "name": "ipython",
    "version": 2
   },
   "file_extension": ".py",
   "mimetype": "text/x-python",
   "name": "python",
   "nbconvert_exporter": "python",
   "pygments_lexer": "ipython2",
   "version": "2.7.12"
  }
 },
 "nbformat": 4,
 "nbformat_minor": 1
}
